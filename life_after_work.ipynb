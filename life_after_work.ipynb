{
 "cells": [
  {
   "cell_type": "markdown",
   "id": "dadcac87-1b92-4ee0-bce1-472c2c9f9c1c",
   "metadata": {},
   "source": [
    "# Life After Work"
   ]
  },
  {
   "cell_type": "markdown",
   "id": "c331ae23-ea07-4376-a65b-3030248e615a",
   "metadata": {
    "jp-MarkdownHeadingCollapsed": true
   },
   "source": [
    "## Main question:"
   ]
  },
  {
   "cell_type": "markdown",
   "id": "c3e90a3a-2afd-4b85-8688-d74536efe007",
   "metadata": {},
   "source": [
    "- Is life expectancy increasing faster than retirement age?\n",
    "\n",
    "### Secondary questions:\n",
    "- How many years, on average, do people live after retiring?\n",
    "- How have life expectancy and retirement age changed over time?\n",
    "- What are the countries with the highest and lowest remaining life expectancy after retirement?\n",
    "- And what about <span style=\"color:green\"><font size=\"5\">**healthy**</font></span> life expectancy?"
   ]
  },
  {
   "cell_type": "markdown",
   "id": "af3d3a67-fb66-49f8-8083-359a5d6dfcf5",
   "metadata": {},
   "source": [
    "## Data source:"
   ]
  },
  {
   "cell_type": "markdown",
   "id": "a5d9635c-2d88-4457-acea-a5aebd9b0918",
   "metadata": {},
   "source": [
    "[Our World in Data](https://ourworldindata.org)\n",
    "\n",
    "### Understanding the data:\n",
    "- How life expectancy is calculated [period vs cohort](https://ourworldindata.org/period-versus-cohort-measures-whats-the-difference)\n",
    "- \"Learn more about this data\" on each table's "
   ]
  },
  {
   "cell_type": "markdown",
   "id": "ad766e21-d735-4118-820b-47d8c42b535a",
   "metadata": {},
   "source": [
    "## EDA"
   ]
  },
  {
   "cell_type": "code",
   "execution_count": 2,
   "id": "79e174f1-e502-446d-943f-2718a906e14d",
   "metadata": {},
   "outputs": [],
   "source": [
    "from pandas import read_csv"
   ]
  },
  {
   "cell_type": "markdown",
   "id": "bf133343-081c-49af-b872-dda09e89ac67",
   "metadata": {},
   "source": [
    "### Average effective age of retirement, women"
   ]
  },
  {
   "cell_type": "code",
   "execution_count": 101,
   "id": "b6a53447-6787-40c1-a604-835cfe816016",
   "metadata": {},
   "outputs": [
    {
     "name": "stdout",
     "output_type": "stream",
     "text": [
      "## Dataframe info:\n",
      "\n",
      "<class 'pandas.core.frame.DataFrame'>\n",
      "RangeIndex: 2153 entries, 0 to 2152\n",
      "Data columns (total 4 columns):\n",
      " #   Column                                             Non-Null Count  Dtype  \n",
      "---  ------                                             --------------  -----  \n",
      " 0   Entity                                             2153 non-null   object \n",
      " 1   Code                                               2055 non-null   object \n",
      " 2   Year                                               2153 non-null   int64  \n",
      " 3   Average effective age of retirement, women (OECD)  2153 non-null   float64\n",
      "dtypes: float64(1), int64(1), object(2)\n",
      "memory usage: 67.4+ KB\n",
      "\n",
      "\n",
      "## NA value counts:\n",
      "\n",
      "Entity                                                0\n",
      "Code                                                 98\n",
      "Year                                                  0\n",
      "Average effective age of retirement, women (OECD)     0\n",
      "dtype: int64\n",
      "\n",
      "\n",
      "## Entities missing Code:\n",
      "\n",
      "Entity\n",
      "Europe average    49\n",
      "OECD average      49\n",
      "Name: count, dtype: int64\n",
      "\n",
      "\n",
      "## Check if there is any Code for those two entities:\n",
      "\n",
      "Entity          Code\n",
      "Europe average  NaN     49\n",
      "OECD average    NaN     49\n",
      "Name: count, dtype: int64\n",
      "\n",
      "\n",
      "## Code values in use:\n",
      "\n",
      "ARG AUS AUT BEL BGR BRA CAN CHE CHL CHN CYP CZE DEU DNK ESP EST FIN FRA GBR GRC HRV HUN IDN IND IRL ISL ISR ITA JPN KOR LTU LUX LVA MEX MLT NLD NOR NZL POL PRT ROU RUS SAU SVK SVN SWE TUR USA ZAF\n",
      "\n",
      "\n",
      "##Confirm that there are no missing values left:\n",
      "\n",
      "Entity                                               0\n",
      "Code                                                 0\n",
      "Year                                                 0\n",
      "Average effective age of retirement, women (OECD)    0\n",
      "dtype: int64\n"
     ]
    }
   ],
   "source": [
    "retirement_w = read_csv('data/average-effective-retirement-women.csv')\n",
    "\n",
    "print('## Dataframe info:\\n')\n",
    "retirement_w.info()\n",
    "\n",
    "print('\\n\\n## NA value counts:\\n')\n",
    "print(retirement_w.isna().sum())\n",
    "\n",
    "print('\\n\\n## Entities missing Code:\\n')\n",
    "print(retirement_w.Entity.loc[retirement_w.Code.isna()].value_counts())\n",
    "\n",
    "print('\\n\\n## Check if there is any Code for those two entities:\\n')\n",
    "print(retirement_w.groupby('Entity').Code.value_counts(dropna=False).loc[\n",
    "    ['Europe average','OECD average']])\n",
    "\n",
    "print('\\n\\n## Code values in use:\\n')\n",
    "print(*sorted(retirement_w.Code[retirement_w.Code.notna()].unique()))\n",
    "\n",
    "# Assign new codes\n",
    "retirement_w.loc[retirement_w.Entity=='Europe average', 'Code'] = 'EU'\n",
    "retirement_w.loc[retirement_w.Entity=='OECD average', 'Code'] = 'OECD'\n",
    "\n",
    "print('\\n\\n##Confirm that there are no missing values left:\\n')\n",
    "print(retirement_w.isna().sum())"
   ]
  },
  {
   "cell_type": "markdown",
   "id": "8dae30d0-7e99-4050-ba85-9cb17f7a9790",
   "metadata": {},
   "source": [
    "### Average effective age of retirement, men"
   ]
  },
  {
   "cell_type": "code",
   "execution_count": 102,
   "id": "80d7348f-d273-450c-892f-28bbc04a7d21",
   "metadata": {},
   "outputs": [
    {
     "name": "stdout",
     "output_type": "stream",
     "text": [
      "## Dataframe info:\n",
      "\n",
      "<class 'pandas.core.frame.DataFrame'>\n",
      "RangeIndex: 2153 entries, 0 to 2152\n",
      "Data columns (total 4 columns):\n",
      " #   Column                                           Non-Null Count  Dtype  \n",
      "---  ------                                           --------------  -----  \n",
      " 0   Entity                                           2153 non-null   object \n",
      " 1   Code                                             2055 non-null   object \n",
      " 2   Year                                             2153 non-null   int64  \n",
      " 3   Average effective age of retirement, men (OECD)  2153 non-null   float64\n",
      "dtypes: float64(1), int64(1), object(2)\n",
      "memory usage: 67.4+ KB\n",
      "\n",
      "\n",
      "## NA value counts:\n",
      "\n",
      "Entity                                              0\n",
      "Code                                               98\n",
      "Year                                                0\n",
      "Average effective age of retirement, men (OECD)     0\n",
      "dtype: int64\n",
      "\n",
      "\n",
      "## Entities missing Code:\n",
      "\n",
      "Entity\n",
      "Europe average    49\n",
      "OECD average      49\n",
      "Name: count, dtype: int64\n",
      "\n",
      "\n",
      "## Check if there is any Code for those two entities:\n",
      "\n",
      "Entity          Code\n",
      "Europe average  NaN     49\n",
      "OECD average    NaN     49\n",
      "Name: count, dtype: int64\n",
      "\n",
      "\n",
      "## Code values in use:\n",
      "\n",
      "ARG AUS AUT BEL BGR BRA CAN CHE CHL CHN CYP CZE DEU DNK ESP EST FIN FRA GBR GRC HRV HUN IDN IND IRL ISL ISR ITA JPN KOR LTU LUX LVA MEX MLT NLD NOR NZL POL PRT ROU RUS SAU SVK SVN SWE TUR USA ZAF\n",
      "\n",
      "\n",
      "##Confirm that there are no missing values left:\n",
      "\n",
      "Entity                                             0\n",
      "Code                                               0\n",
      "Year                                               0\n",
      "Average effective age of retirement, men (OECD)    0\n",
      "dtype: int64\n"
     ]
    }
   ],
   "source": [
    "retirement_m = read_csv('data/average-effective-retirement-men.csv')\n",
    "\n",
    "print('## Dataframe info:\\n')\n",
    "retirement_m.info()\n",
    "\n",
    "print('\\n\\n## NA value counts:\\n')\n",
    "print(retirement_m.isna().sum())\n",
    "\n",
    "print('\\n\\n## Entities missing Code:\\n')\n",
    "print(retirement_m.Entity.loc[retirement_m.Code.isna()].value_counts())\n",
    "\n",
    "print('\\n\\n## Check if there is any Code for those two entities:\\n')\n",
    "print(retirement_m.groupby('Entity').Code.value_counts(dropna=False).loc[\n",
    "    ['Europe average','OECD average']])\n",
    "\n",
    "print('\\n\\n## Code values in use:\\n')\n",
    "print(*sorted(retirement_m.Code[retirement_m.Code.notna()].unique()))\n",
    "\n",
    "# Assign new codes\n",
    "retirement_m.loc[retirement_m.Entity=='Europe average', 'Code'] = 'EU'\n",
    "retirement_m.loc[retirement_m.Entity=='OECD average', 'Code'] = 'OECD'\n",
    "\n",
    "print('\\n\\n##Confirm that there are no missing values left:\\n')\n",
    "print(retirement_m.isna().sum())"
   ]
  },
  {
   "cell_type": "code",
   "execution_count": null,
   "id": "f5a5ba6e-7467-40bf-aaf1-c1e3e6da54d2",
   "metadata": {},
   "outputs": [],
   "source": []
  }
 ],
 "metadata": {
  "kernelspec": {
   "display_name": "Python 3 (ipykernel)",
   "language": "python",
   "name": "python3"
  },
  "language_info": {
   "codemirror_mode": {
    "name": "ipython",
    "version": 3
   },
   "file_extension": ".py",
   "mimetype": "text/x-python",
   "name": "python",
   "nbconvert_exporter": "python",
   "pygments_lexer": "ipython3",
   "version": "3.11.7"
  }
 },
 "nbformat": 4,
 "nbformat_minor": 5
}
